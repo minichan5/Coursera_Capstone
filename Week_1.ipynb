{
 "cells": [
  {
   "cell_type": "markdown",
   "metadata": {},
   "source": [
    "# 1- INTRODUCTION: Gourmet Bussines"
   ]
  },
  {
   "cell_type": "markdown",
   "metadata": {},
   "source": [
    "A chef has contacted me, since he needs to do a study of the businesses that have been successful in the culinary field he develops.\n",
    "\n",
    "With respect to his experience, he has been based on Gourmet businesses in certain areas of Mexico City where they have been well received by the population.\n",
    "\n",
    "His intention is to open a gourmet-type business in a potential place for his success and where the concept has not yet arrived.\n",
    "\n",
    "The proposal that he makes to me is the following:"
   ]
  },
  {
   "cell_type": "markdown",
   "metadata": {},
   "source": [
    "## Customer's proposal"
   ]
  },
  {
   "cell_type": "markdown",
   "metadata": {},
   "source": [
    "Dear Minerva:\n",
    "I am in contact with you to formally make my intention to require your artificial intelligence / machine learning service, for which I will detail below the requirements of the project you will develop.\n",
    "\n",
    "Approach\n",
    "\n",
    "As part of a professional growth, I intend to open a gourmet store, which will have as main selling axes:\n",
    "\n",
    "Butchery: National and imported cuts of beef (prime quality) will be sold, wagyu meat (imported from Japan), aged meat (inside the store by us in aging chambers), pork cuts, piglets, exotic meats such as wild boar, crocodile.\n",
    "Fish and seafood: Daily selection attached to sustainable fishing, fish and shellfish national and imported.\n",
    "Spices, fruits, vegetables and other items related to gourmet preparations.\n",
    "Workshops, courses.\n",
    "\n",
    "Location\n",
    "\n",
    "As part of the support I require from you, I need to determine the ideal location of the store, which could be in the Cuahutemoc or Benito Juarez delegation, for which I need to consider the following points in order to make a decision:\n",
    "\n",
    "Purchase incidence: Take into account the purchasing trends of customers, according to nearby businesses.\n",
    "Opening hours and closing of the store.\n",
    "Market segmentation.\n",
    "\n",
    "Taking these points into account, I ask for your expertise to be able to create a model and suitable with the needs that I have.\n",
    "\n",
    "Without further ado, I remain attentive to your response."
   ]
  },
  {
   "cell_type": "markdown",
   "metadata": {},
   "source": [
    "# 2- DATA"
   ]
  },
  {
   "cell_type": "markdown",
   "metadata": {},
   "source": [
    "We will rely on Foursquare to have the necessary information of the places, as well as their popularity and the business line that is of interest.\n",
    "\n",
    "In order to locate each of the colonies in the determined areas of Mexico City, we will access the INEGI portal, which is the National Institute of Statistics and Geography of Mexico, through a web query, we can download a csv file with the geographic coordinates of all the neighborhoods of the City and to be able to work on these data.\n",
    "\n",
    "In the question of the procedure, we can highlight the places of Gourmet turnaround related to the interest of my client and associate the types of businesses and sites that exist around it, in order to associate a set of behavior related to the gourmet sector and thus be able to extrapolate this set to a new town in the city"
   ]
  },
  {
   "cell_type": "code",
   "execution_count": null,
   "metadata": {},
   "outputs": [],
   "source": []
  }
 ],
 "metadata": {
  "kernelspec": {
   "display_name": "Python 3",
   "language": "python",
   "name": "python3"
  },
  "language_info": {
   "codemirror_mode": {
    "name": "ipython",
    "version": 3
   },
   "file_extension": ".py",
   "mimetype": "text/x-python",
   "name": "python",
   "nbconvert_exporter": "python",
   "pygments_lexer": "ipython3",
   "version": "3.6.6"
  }
 },
 "nbformat": 4,
 "nbformat_minor": 2
}
