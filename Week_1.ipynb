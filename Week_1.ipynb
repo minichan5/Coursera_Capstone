{
 "cells": [
  {
   "cell_type": "markdown",
   "metadata": {},
   "source": [
    "# 1- INTRODUCTION: Gourmet Bussines"
   ]
  },
  {
   "cell_type": "markdown",
   "metadata": {},
   "source": [
    "A chef has contacted me, since he needs to do a study of the businesses that have been successful in the culinary field he develops.\n",
    "\n",
    "With respect to his experience, he has been based on Gourmet businesses in certain areas of Mexico City where they have been well received by the population.\n",
    "\n",
    "His intention is to open a gourmet-type business in a potential place for his success and where the concept has not yet arrived.\n",
    "\n",
    "The proposal that he makes to me is the following:"
   ]
  },
  {
   "cell_type": "markdown",
   "metadata": {},
   "source": [
    "## Customer's proposal"
   ]
  },
  {
   "cell_type": "markdown",
   "metadata": {},
   "source": [
    "Dear Minerva:\n",
    "I am in contact with you to formally make my intention to require your artificial intelligence / machine learning service, for which I will detail below the requirements of the project you will develop.\n",
    "\n",
    "Approach\n",
    "\n",
    "As part of a professional growth, I intend to open a gourmet store, which will have as main selling axes:\n",
    "\n",
    "Butchery: National and imported cuts of beef (prime quality) will be sold, wagyu meat (imported from Japan), aged meat (inside the store by us in aging chambers), pork cuts, piglets, exotic meats such as wild boar, crocodile.\n",
    "Fish and seafood: Daily selection attached to sustainable fishing, fish and shellfish national and imported.\n",
    "Spices, fruits, vegetables and other items related to gourmet preparations.\n",
    "Workshops, courses.\n",
    "\n",
    "Location\n",
    "\n",
    "As part of the support I require from you, I need to determine the ideal location of the store, which could be in the Cuahutemoc or Benito Juarez delegation, for which I need to consider the following points in order to make a decision:\n",
    "\n",
    "Purchase incidence: Take into account the purchasing trends of customers, according to nearby businesses.\n",
    "Opening hours and closing of the store.\n",
    "Market segmentation.\n",
    "\n",
    "Taking these points into account, I ask for your expertise to be able to create a model and suitable with the needs that I have.\n",
    "\n",
    "Without further ado, I remain attentive to your response."
   ]
  },
  {
   "cell_type": "markdown",
   "metadata": {},
   "source": [
    "# 2- DATA"
   ]
  },
  {
   "cell_type": "markdown",
   "metadata": {},
   "source": [
    "We will rely on Foursquare to have the necessary information of the places, as well as their popularity and the business line that is of interest.\n",
    "\n",
    "In order to locate each of the colonies in the determined areas of Mexico City, we will access the INEGI portal, which is the National Institute of Statistics and Geography of Mexico, through a web query, we can download a csv file with the geographic coordinates of all the neighborhoods of the City and to be able to work on these data.\n",
    "\n",
    "In the question of the procedure, we can highlight the places of Gourmet turnaround related to the interest of my client and associate the types of businesses and sites that exist around it, in order to associate a set of behavior related to the gourmet sector and thus be able to extrapolate this set to a new town in the city"
   ]
  },
  {
   "cell_type": "markdown",
   "metadata": {},
   "source": [
    "## csv File filter and Downloaded from https://www.inegi.org.mx/app/geo2/cng/"
   ]
  },
  {
   "cell_type": "markdown",
   "metadata": {},
   "source": [
    "<h2>Import dependencies that we will need</h2>"
   ]
  },
  {
   "cell_type": "code",
   "execution_count": 3,
   "metadata": {},
   "outputs": [],
   "source": [
    "import pandas as pd\n",
    "import numpy as np"
   ]
  },
  {
   "cell_type": "code",
   "execution_count": 8,
   "metadata": {},
   "outputs": [
    {
     "name": "stdout",
     "output_type": "stream",
     "text": [
      "Libraries imported.\n"
     ]
    }
   ],
   "source": [
    "pd.set_option('display.max_columns', None)\n",
    "pd.set_option('display.max_rows', None)\n",
    "\n",
    "import json # library to handle JSON files\n",
    "\n",
    "#!conda install -c conda-forge geopy --yes # uncomment this line if you haven't completed the Foursquare API lab\n",
    "from geopy.geocoders import Nominatim # convert an address into latitude and longitude values\n",
    "\n",
    "import requests # library to handle requests\n",
    "from pandas.io.json import json_normalize # tranform JSON file into a pandas dataframe\n",
    "\n",
    "# Matplotlib and associated plotting modules\n",
    "import matplotlib.cm as cm\n",
    "import matplotlib.colors as colors\n",
    "\n",
    "# import k-means from clustering stage\n",
    "from sklearn.cluster import KMeans\n",
    "\n",
    "#!conda install -c conda-forge folium=0.5.0 --yes # uncomment this line if you haven't completed the Foursquare API lab\n",
    "import folium # map rendering library\n",
    "\n",
    "print('Libraries imported.')"
   ]
  },
  {
   "cell_type": "markdown",
   "metadata": {},
   "source": [
    "Preview of the Data obtained"
   ]
  },
  {
   "cell_type": "code",
   "execution_count": 9,
   "metadata": {},
   "outputs": [
    {
     "data": {
      "text/html": [
       "<div>\n",
       "<style scoped>\n",
       "    .dataframe tbody tr th:only-of-type {\n",
       "        vertical-align: middle;\n",
       "    }\n",
       "\n",
       "    .dataframe tbody tr th {\n",
       "        vertical-align: top;\n",
       "    }\n",
       "\n",
       "    .dataframe thead th {\n",
       "        text-align: right;\n",
       "    }\n",
       "</style>\n",
       "<table border=\"1\" class=\"dataframe\">\n",
       "  <thead>\n",
       "    <tr style=\"text-align: right;\">\n",
       "      <th></th>\n",
       "      <th>Neighborhood</th>\n",
       "      <th>Nombre_conocido</th>\n",
       "      <th>Clase</th>\n",
       "      <th>Termino_generico</th>\n",
       "      <th>Clave_de_entidad</th>\n",
       "      <th>Nombre_de_entidad</th>\n",
       "      <th>Clave_de_municipio</th>\n",
       "      <th>Borough</th>\n",
       "      <th>Clave_de_localidad</th>\n",
       "      <th>Nombre_de_localidad</th>\n",
       "      <th>Latitud</th>\n",
       "      <th>Longitud</th>\n",
       "      <th>Latitude</th>\n",
       "      <th>Longitude</th>\n",
       "    </tr>\n",
       "  </thead>\n",
       "  <tbody>\n",
       "    <tr>\n",
       "      <th>0</th>\n",
       "      <td>10 de Abril</td>\n",
       "      <td>NaN</td>\n",
       "      <td>Localidad</td>\n",
       "      <td>Colonia</td>\n",
       "      <td>9</td>\n",
       "      <td>Ciudad de Mexico</td>\n",
       "      <td>16</td>\n",
       "      <td>Miguel Hidalgo</td>\n",
       "      <td>1</td>\n",
       "      <td>Miguel Hidalgo</td>\n",
       "      <td>19°26'55'' N</td>\n",
       "      <td>99°12'30'' W</td>\n",
       "      <td>19.448611</td>\n",
       "      <td>99.208333</td>\n",
       "    </tr>\n",
       "    <tr>\n",
       "      <th>1</th>\n",
       "      <td>10 de Mayo</td>\n",
       "      <td>NaN</td>\n",
       "      <td>Localidad</td>\n",
       "      <td>Colonia</td>\n",
       "      <td>9</td>\n",
       "      <td>Ciudad de Mexico</td>\n",
       "      <td>17</td>\n",
       "      <td>Venustiano Carranza</td>\n",
       "      <td>1</td>\n",
       "      <td>Venustiano Carranza</td>\n",
       "      <td>19°26'01'' N</td>\n",
       "      <td>99°07'05'' W</td>\n",
       "      <td>19.433611</td>\n",
       "      <td>99.118056</td>\n",
       "    </tr>\n",
       "    <tr>\n",
       "      <th>2</th>\n",
       "      <td>12 de Diciembre</td>\n",
       "      <td>NaN</td>\n",
       "      <td>Localidad</td>\n",
       "      <td>Colonia</td>\n",
       "      <td>9</td>\n",
       "      <td>Ciudad de Mexico</td>\n",
       "      <td>7</td>\n",
       "      <td>Iztapalapa</td>\n",
       "      <td>1</td>\n",
       "      <td>Iztapalapa</td>\n",
       "      <td>19°19'45'' N</td>\n",
       "      <td>99°06'02'' W</td>\n",
       "      <td>19.329167</td>\n",
       "      <td>99.100556</td>\n",
       "    </tr>\n",
       "    <tr>\n",
       "      <th>3</th>\n",
       "      <td>15 de Agosto</td>\n",
       "      <td>NaN</td>\n",
       "      <td>Localidad</td>\n",
       "      <td>Colonia</td>\n",
       "      <td>9</td>\n",
       "      <td>Ciudad de Mexico</td>\n",
       "      <td>5</td>\n",
       "      <td>Gustavo A. Madero</td>\n",
       "      <td>1</td>\n",
       "      <td>Gustavo A. Madero</td>\n",
       "      <td>19°29'05'' N</td>\n",
       "      <td>99°06'23'' W</td>\n",
       "      <td>19.484722</td>\n",
       "      <td>99.106389</td>\n",
       "    </tr>\n",
       "    <tr>\n",
       "      <th>4</th>\n",
       "      <td>16 de Septiembre</td>\n",
       "      <td>NaN</td>\n",
       "      <td>Localidad</td>\n",
       "      <td>Colonia</td>\n",
       "      <td>9</td>\n",
       "      <td>Ciudad de Mexico</td>\n",
       "      <td>16</td>\n",
       "      <td>Miguel Hidalgo</td>\n",
       "      <td>1</td>\n",
       "      <td>Miguel Hidalgo</td>\n",
       "      <td>19°24'07'' N</td>\n",
       "      <td>99°12'25'' W</td>\n",
       "      <td>19.401944</td>\n",
       "      <td>99.206944</td>\n",
       "    </tr>\n",
       "  </tbody>\n",
       "</table>\n",
       "</div>"
      ],
      "text/plain": [
       "       Neighborhood  Nombre_conocido      Clase Termino_generico  \\\n",
       "0       10 de Abril              NaN  Localidad          Colonia   \n",
       "1        10 de Mayo              NaN  Localidad          Colonia   \n",
       "2   12 de Diciembre              NaN  Localidad          Colonia   \n",
       "3      15 de Agosto              NaN  Localidad          Colonia   \n",
       "4  16 de Septiembre              NaN  Localidad          Colonia   \n",
       "\n",
       "   Clave_de_entidad Nombre_de_entidad  Clave_de_municipio  \\\n",
       "0                 9  Ciudad de Mexico                  16   \n",
       "1                 9  Ciudad de Mexico                  17   \n",
       "2                 9  Ciudad de Mexico                   7   \n",
       "3                 9  Ciudad de Mexico                   5   \n",
       "4                 9  Ciudad de Mexico                  16   \n",
       "\n",
       "               Borough  Clave_de_localidad  Nombre_de_localidad       Latitud  \\\n",
       "0       Miguel Hidalgo                   1       Miguel Hidalgo  19°26'55'' N   \n",
       "1  Venustiano Carranza                   1  Venustiano Carranza  19°26'01'' N   \n",
       "2           Iztapalapa                   1           Iztapalapa  19°19'45'' N   \n",
       "3    Gustavo A. Madero                   1    Gustavo A. Madero  19°29'05'' N   \n",
       "4       Miguel Hidalgo                   1       Miguel Hidalgo  19°24'07'' N   \n",
       "\n",
       "       Longitud   Latitude  Longitude  \n",
       "0  99°12'30'' W  19.448611  99.208333  \n",
       "1  99°07'05'' W  19.433611  99.118056  \n",
       "2  99°06'02'' W  19.329167  99.100556  \n",
       "3  99°06'23'' W  19.484722  99.106389  \n",
       "4  99°12'25'' W  19.401944  99.206944  "
      ]
     },
     "execution_count": 9,
     "metadata": {},
     "output_type": "execute_result"
    }
   ],
   "source": [
    "geo=pd.read_csv('borough_data.csv')\n",
    "geo.columns = [c.replace(' ', '_') for c in geo.columns]\n",
    "geo.rename(index=str, columns={'Nombre_de_municipio': 'Borough','Nombre_geografico':'Neighborhood','Lat_dec':'Latitude','Lon_dec':'Longitude'}, inplace=True)\n",
    "geo.head()"
   ]
  },
  {
   "cell_type": "markdown",
   "metadata": {},
   "source": [
    "### Filter the DataFrame with the data of Borough,Neighborhood,Latitude and Longitude"
   ]
  },
  {
   "cell_type": "code",
   "execution_count": 10,
   "metadata": {},
   "outputs": [
    {
     "data": {
      "text/html": [
       "<div>\n",
       "<style scoped>\n",
       "    .dataframe tbody tr th:only-of-type {\n",
       "        vertical-align: middle;\n",
       "    }\n",
       "\n",
       "    .dataframe tbody tr th {\n",
       "        vertical-align: top;\n",
       "    }\n",
       "\n",
       "    .dataframe thead th {\n",
       "        text-align: right;\n",
       "    }\n",
       "</style>\n",
       "<table border=\"1\" class=\"dataframe\">\n",
       "  <thead>\n",
       "    <tr style=\"text-align: right;\">\n",
       "      <th></th>\n",
       "      <th>Borough</th>\n",
       "      <th>Neighborhood</th>\n",
       "      <th>Latitude</th>\n",
       "      <th>Longitude</th>\n",
       "    </tr>\n",
       "  </thead>\n",
       "  <tbody>\n",
       "    <tr>\n",
       "      <th>0</th>\n",
       "      <td>Miguel Hidalgo</td>\n",
       "      <td>10 de Abril</td>\n",
       "      <td>19.448611</td>\n",
       "      <td>-99.208333</td>\n",
       "    </tr>\n",
       "    <tr>\n",
       "      <th>1</th>\n",
       "      <td>Venustiano Carranza</td>\n",
       "      <td>10 de Mayo</td>\n",
       "      <td>19.433611</td>\n",
       "      <td>-99.118056</td>\n",
       "    </tr>\n",
       "    <tr>\n",
       "      <th>2</th>\n",
       "      <td>Iztapalapa</td>\n",
       "      <td>12 de Diciembre</td>\n",
       "      <td>19.329167</td>\n",
       "      <td>-99.100556</td>\n",
       "    </tr>\n",
       "    <tr>\n",
       "      <th>3</th>\n",
       "      <td>Gustavo A. Madero</td>\n",
       "      <td>15 de Agosto</td>\n",
       "      <td>19.484722</td>\n",
       "      <td>-99.106389</td>\n",
       "    </tr>\n",
       "    <tr>\n",
       "      <th>4</th>\n",
       "      <td>Miguel Hidalgo</td>\n",
       "      <td>16 de Septiembre</td>\n",
       "      <td>19.401944</td>\n",
       "      <td>-99.206944</td>\n",
       "    </tr>\n",
       "  </tbody>\n",
       "</table>\n",
       "</div>"
      ],
      "text/plain": [
       "               Borough      Neighborhood   Latitude  Longitude\n",
       "0       Miguel Hidalgo       10 de Abril  19.448611 -99.208333\n",
       "1  Venustiano Carranza        10 de Mayo  19.433611 -99.118056\n",
       "2           Iztapalapa   12 de Diciembre  19.329167 -99.100556\n",
       "3    Gustavo A. Madero      15 de Agosto  19.484722 -99.106389\n",
       "4       Miguel Hidalgo  16 de Septiembre  19.401944 -99.206944"
      ]
     },
     "execution_count": 10,
     "metadata": {},
     "output_type": "execute_result"
    }
   ],
   "source": [
    "df = pd.DataFrame()\n",
    "df['Borough']=geo.Borough\n",
    "df['Neighborhood']=geo.Neighborhood\n",
    "df['Latitude']=geo.Latitude\n",
    "###multiply longitud by -1 in order to use in Foursquare\n",
    "df['Longitude']=(geo.Longitude)*-1\n",
    "df.head()"
   ]
  },
  {
   "cell_type": "markdown",
   "metadata": {},
   "source": [
    "#### Use geopy library to get the latitude and longitude values of Mexico City."
   ]
  },
  {
   "cell_type": "code",
   "execution_count": null,
   "metadata": {},
   "outputs": [],
   "source": [
    "address = 'Mexico City, MX'\n",
    "\n",
    "geolocator = Nominatim(user_agent=\"ny_explorer\")\n",
    "location = geolocator.geocode(address)\n",
    "latitude = location.latitude\n",
    "longitude = location.longitude\n",
    "print('The geograpical coordinate of Mexico City are {}, {}.'.format(latitude, longitude))"
   ]
  },
  {
   "cell_type": "markdown",
   "metadata": {},
   "source": [
    "#### Create a map of Mexico City with neighborhoods superimposed on top."
   ]
  },
  {
   "cell_type": "code",
   "execution_count": 7,
   "metadata": {},
   "outputs": [
    {
     "ename": "NameError",
     "evalue": "name 'folium' is not defined",
     "output_type": "error",
     "traceback": [
      "\u001b[0;31m---------------------------------------------------------------------------\u001b[0m",
      "\u001b[0;31mNameError\u001b[0m                                 Traceback (most recent call last)",
      "\u001b[0;32m<ipython-input-7-b61545fdeef3>\u001b[0m in \u001b[0;36m<module>\u001b[0;34m\u001b[0m\n\u001b[1;32m      1\u001b[0m \u001b[0;31m# create map of Mexico using latitude and longitude values\u001b[0m\u001b[0;34m\u001b[0m\u001b[0;34m\u001b[0m\u001b[0m\n\u001b[0;32m----> 2\u001b[0;31m \u001b[0mmap_mx\u001b[0m \u001b[0;34m=\u001b[0m \u001b[0mfolium\u001b[0m\u001b[0;34m.\u001b[0m\u001b[0mMap\u001b[0m\u001b[0;34m(\u001b[0m\u001b[0mlocation\u001b[0m\u001b[0;34m=\u001b[0m\u001b[0;34m[\u001b[0m\u001b[0mlatitude\u001b[0m\u001b[0;34m,\u001b[0m \u001b[0mlongitude\u001b[0m\u001b[0;34m]\u001b[0m\u001b[0;34m,\u001b[0m \u001b[0mzoom_start\u001b[0m\u001b[0;34m=\u001b[0m\u001b[0;36m11.48\u001b[0m\u001b[0;34m)\u001b[0m\u001b[0;34m\u001b[0m\u001b[0m\n\u001b[0m\u001b[1;32m      3\u001b[0m \u001b[0;34m\u001b[0m\u001b[0m\n\u001b[1;32m      4\u001b[0m \u001b[0;31m# add markers to map\u001b[0m\u001b[0;34m\u001b[0m\u001b[0;34m\u001b[0m\u001b[0m\n\u001b[1;32m      5\u001b[0m \u001b[0;32mfor\u001b[0m \u001b[0mlat\u001b[0m\u001b[0;34m,\u001b[0m \u001b[0mlng\u001b[0m\u001b[0;34m,\u001b[0m \u001b[0mborough\u001b[0m\u001b[0;34m,\u001b[0m \u001b[0mNeighborhood\u001b[0m \u001b[0;32min\u001b[0m \u001b[0mzip\u001b[0m\u001b[0;34m(\u001b[0m\u001b[0mdf\u001b[0m\u001b[0;34m[\u001b[0m\u001b[0;34m'Latitude'\u001b[0m\u001b[0;34m]\u001b[0m\u001b[0;34m,\u001b[0m \u001b[0mdf\u001b[0m\u001b[0;34m[\u001b[0m\u001b[0;34m'Longitude'\u001b[0m\u001b[0;34m]\u001b[0m\u001b[0;34m,\u001b[0m \u001b[0mdf\u001b[0m\u001b[0;34m[\u001b[0m\u001b[0;34m'Borough'\u001b[0m\u001b[0;34m]\u001b[0m\u001b[0;34m,\u001b[0m \u001b[0mdf\u001b[0m\u001b[0;34m[\u001b[0m\u001b[0;34m'Neighborhood'\u001b[0m\u001b[0;34m]\u001b[0m\u001b[0;34m)\u001b[0m\u001b[0;34m:\u001b[0m\u001b[0;34m\u001b[0m\u001b[0m\n",
      "\u001b[0;31mNameError\u001b[0m: name 'folium' is not defined"
     ]
    }
   ],
   "source": [
    "# create map of Mexico using latitude and longitude values\n",
    "map_mx = folium.Map(location=[latitude, longitude], zoom_start=11.48)\n",
    "\n",
    "# add markers to map\n",
    "for lat, lng, borough, Neighborhood in zip(df['Latitude'], df['Longitude'], df['Borough'], df['Neighborhood']):\n",
    "    label = '{}, {}'.format(Neighborhood, borough)\n",
    "    label = folium.Popup(label, parse_html=True)\n",
    "    folium.CircleMarker(\n",
    "        [lat, lng],\n",
    "        radius=5,\n",
    "        popup=label,\n",
    "        color='blue',\n",
    "        fill=True,\n",
    "        fill_color='#3186cc',\n",
    "        fill_opacity=0.7,\n",
    "        parse_html=False).add_to(map_mx)  \n",
    "\n",
    "    \n",
    "map_mx"
   ]
  },
  {
   "cell_type": "code",
   "execution_count": null,
   "metadata": {},
   "outputs": [],
   "source": []
  }
 ],
 "metadata": {
  "kernelspec": {
   "display_name": "Python 3",
   "language": "python",
   "name": "python3"
  },
  "language_info": {
   "codemirror_mode": {
    "name": "ipython",
    "version": 3
   },
   "file_extension": ".py",
   "mimetype": "text/x-python",
   "name": "python",
   "nbconvert_exporter": "python",
   "pygments_lexer": "ipython3",
   "version": "3.6.6"
  }
 },
 "nbformat": 4,
 "nbformat_minor": 2
}
